{
  "cells": [
    {
      "cell_type": "code",
      "execution_count": 2,
      "metadata": {
        "id": "5OBSacx6Q03m"
      },
      "outputs": [],
      "source": [
        "# import required modules\n",
        "import random\n",
        "from tqdm import tqdm\n",
        "import pandas as pd\n",
        "import numpy as np\n",
        "import matplotlib.pyplot as plt\n",
        "from sklearn.model_selection import train_test_split\n",
        "\n",
        "import torch\n",
        "from torch import nn, optim, Tensor\n",
        "\n",
        "from torch_sparse import SparseTensor, matmul\n",
        "\n",
        "from torch_geometric.utils import structured_negative_sampling\n",
        "from torch_geometric.data import download_url, extract_zip\n",
        "from torch_geometric.nn.conv.gcn_conv import gcn_norm\n",
        "from torch_geometric.nn.conv import MessagePassing\n",
        "from torch_geometric.typing import Adj"
      ]
    },
    {
      "cell_type": "code",
      "execution_count": 3,
      "metadata": {
        "colab": {
          "base_uri": "https://localhost:8080/"
        },
        "id": "6cRC_IazQ4Oj",
        "outputId": "e08d04d9-0526-4dee-82a2-02101a33ec98"
      },
      "outputs": [
        {
          "name": "stderr",
          "output_type": "stream",
          "text": [
            "Using existing file ml-latest-small.zip\n",
            "Extracting ./ml-latest-small.zip\n"
          ]
        }
      ],
      "source": [
        "movie_path = \"../data/raw/ml-latest-small/movies.csv\"\n",
        "rating_path = \"../data/raw/ml-latest-small/ratings.csv\""
      ]
    },
    {
      "cell_type": "code",
      "execution_count": 4,
      "metadata": {
        "id": "o2P3zYR8Q8EX"
      },
      "outputs": [],
      "source": [
        "def load_node_csv(path, index_col):\n",
        "    df = pd.read_csv(path, index_col=index_col)\n",
        "    mapping = {index: i for i, index in enumerate(df.index.unique())}\n",
        "    return mapping\n",
        "\n",
        "\n",
        "user_mapping = load_node_csv(rating_path, index_col=\"userId\")\n",
        "movie_mapping = load_node_csv(movie_path, index_col=\"movieId\")"
      ]
    },
    {
      "cell_type": "code",
      "execution_count": 5,
      "metadata": {
        "id": "BkJzQlxSRDEq"
      },
      "outputs": [],
      "source": [
        "def load_edge_csv(\n",
        "    path,\n",
        "    src_index_col,\n",
        "    src_mapping,\n",
        "    dst_index_col,\n",
        "    dst_mapping,\n",
        "    link_index_col,\n",
        "    rating_threshold=4,\n",
        "):\n",
        "    df = pd.read_csv(path)\n",
        "    edge_index = None\n",
        "    src = [src_mapping[index] for index in df[src_index_col]]\n",
        "    dst = [dst_mapping[index] for index in df[dst_index_col]]\n",
        "    edge_attr = (\n",
        "        torch.from_numpy(df[link_index_col].values).view(-1, 1).to(torch.long)\n",
        "        >= rating_threshold\n",
        "    )\n",
        "\n",
        "    edge_index = [[], []]\n",
        "    for i in range(edge_attr.shape[0]):\n",
        "        if edge_attr[i]:\n",
        "            edge_index[0].append(src[i])\n",
        "            edge_index[1].append(dst[i])\n",
        "\n",
        "    return torch.tensor(edge_index)\n",
        "\n",
        "\n",
        "edge_index = load_edge_csv(\n",
        "    rating_path,\n",
        "    src_index_col=\"userId\",\n",
        "    src_mapping=user_mapping,\n",
        "    dst_index_col=\"movieId\",\n",
        "    dst_mapping=movie_mapping,\n",
        "    link_index_col=\"rating\",\n",
        "    rating_threshold=4,\n",
        ")"
      ]
    },
    {
      "cell_type": "code",
      "execution_count": 6,
      "metadata": {
        "id": "wIueYZfaT6_H"
      },
      "outputs": [],
      "source": [
        "# split the edges of the graph using a 80/10/10 train/validation/test split\n",
        "num_users, num_movies = len(user_mapping), len(movie_mapping)\n",
        "num_interactions = edge_index.shape[1]\n",
        "all_indices = [i for i in range(num_interactions)]\n",
        "\n",
        "train_indices, test_indices = train_test_split(\n",
        "    all_indices, test_size=0.2, random_state=1\n",
        ")\n",
        "val_indices, test_indices = train_test_split(\n",
        "    test_indices, test_size=0.5, random_state=1\n",
        ")\n",
        "\n",
        "train_edge_index = edge_index[:, train_indices]\n",
        "val_edge_index = edge_index[:, val_indices]\n",
        "test_edge_index = edge_index[:, test_indices]"
      ]
    },
    {
      "cell_type": "code",
      "execution_count": 7,
      "metadata": {
        "id": "U5yKILBJUAN6"
      },
      "outputs": [],
      "source": [
        "train_sparse_edge_index = SparseTensor(\n",
        "    row=train_edge_index[0],\n",
        "    col=train_edge_index[1],\n",
        "    sparse_sizes=(num_users + num_movies, num_users + num_movies),\n",
        ")\n",
        "val_sparse_edge_index = SparseTensor(\n",
        "    row=val_edge_index[0],\n",
        "    col=val_edge_index[1],\n",
        "    sparse_sizes=(num_users + num_movies, num_users + num_movies),\n",
        ")\n",
        "test_sparse_edge_index = SparseTensor(\n",
        "    row=test_edge_index[0],\n",
        "    col=test_edge_index[1],\n",
        "    sparse_sizes=(num_users + num_movies, num_users + num_movies),\n",
        ")"
      ]
    },
    {
      "cell_type": "markdown",
      "metadata": {},
      "source": [
        "# Sample Mini-batch\n"
      ]
    },
    {
      "cell_type": "code",
      "execution_count": 8,
      "metadata": {
        "id": "KqKI1VduKcwf"
      },
      "outputs": [],
      "source": [
        "def sample_mini_batch(batch_size, edge_index):\n",
        "    edges = structured_negative_sampling(edge_index)\n",
        "    edges = torch.stack(edges, dim=0)\n",
        "    indices = random.choices([i for i in range(edges[0].shape[0])], k=batch_size)\n",
        "    batch = edges[:, indices]\n",
        "    user_indices, pos_item_indices, neg_item_indices = batch[0], batch[1], batch[2]\n",
        "    return user_indices, pos_item_indices, neg_item_indices"
      ]
    },
    {
      "cell_type": "markdown",
      "metadata": {},
      "source": [
        "# LightGCN\n"
      ]
    },
    {
      "cell_type": "code",
      "execution_count": 9,
      "metadata": {
        "id": "o9GvYg9ehDOX"
      },
      "outputs": [],
      "source": [
        "# defines LightGCN model\n",
        "class LightGCN(MessagePassing):\n",
        "    def __init__(\n",
        "        self, num_users, num_items, embedding_dim=64, K=3, add_self_loops=False\n",
        "    ):\n",
        "        super().__init__()\n",
        "        self.num_users, self.num_items = num_users, num_items\n",
        "        self.embedding_dim, self.K = embedding_dim, K\n",
        "        self.add_self_loops = add_self_loops\n",
        "\n",
        "        self.users_emb = nn.Embedding(\n",
        "            num_embeddings=self.num_users, embedding_dim=self.embedding_dim\n",
        "        )  # e_u^0\n",
        "        self.items_emb = nn.Embedding(\n",
        "            num_embeddings=self.num_items, embedding_dim=self.embedding_dim\n",
        "        )  # e_i^0\n",
        "\n",
        "        nn.init.normal_(self.users_emb.weight, std=0.1)\n",
        "        nn.init.normal_(self.items_emb.weight, std=0.1)\n",
        "\n",
        "    def forward(self, edge_index: SparseTensor):\n",
        "        edge_index_norm = gcn_norm(edge_index, add_self_loops=self.add_self_loops)\n",
        "\n",
        "        emb_0 = torch.cat([self.users_emb.weight, self.items_emb.weight])  # E^0\n",
        "        embs = [emb_0]\n",
        "        emb_k = emb_0\n",
        "\n",
        "        for i in range(self.K):\n",
        "            emb_k = self.propagate(edge_index_norm, x=emb_k)\n",
        "            embs.append(emb_k)\n",
        "\n",
        "        embs = torch.stack(embs, dim=1)\n",
        "        emb_final = torch.mean(embs, dim=1)  # E^K\n",
        "\n",
        "        users_emb_final, items_emb_final = torch.split(\n",
        "            emb_final, [self.num_users, self.num_items]\n",
        "        )\n",
        "\n",
        "        # returns e_u^K, e_u^0, e_i^K, e_i^0\n",
        "        return (\n",
        "            users_emb_final,\n",
        "            self.users_emb.weight,\n",
        "            items_emb_final,\n",
        "            self.items_emb.weight,\n",
        "        )\n",
        "\n",
        "    def message(self, x_j: Tensor) -> Tensor:\n",
        "        return x_j\n",
        "\n",
        "    def message_and_aggregate(self, adj_t: SparseTensor, x: Tensor) -> Tensor:\n",
        "        return matmul(adj_t, x)\n",
        "\n",
        "\n",
        "model = LightGCN(num_users, num_movies)"
      ]
    },
    {
      "cell_type": "markdown",
      "metadata": {
        "id": "My8eqloiBccE"
      },
      "source": [
        "# Loss Function\n"
      ]
    },
    {
      "cell_type": "code",
      "execution_count": 10,
      "metadata": {
        "id": "QmPs1xS-BYfe"
      },
      "outputs": [],
      "source": [
        "def bpr_loss(\n",
        "    users_emb_final,\n",
        "    users_emb_0,\n",
        "    pos_items_emb_final,\n",
        "    pos_items_emb_0,\n",
        "    neg_items_emb_final,\n",
        "    neg_items_emb_0,\n",
        "    lambda_val,\n",
        "):\n",
        "    reg_loss = lambda_val * (\n",
        "        users_emb_0.norm(2).pow(2)\n",
        "        + pos_items_emb_0.norm(2).pow(2)\n",
        "        + neg_items_emb_0.norm(2).pow(2)\n",
        "    )\n",
        "\n",
        "    pos_scores = torch.mul(users_emb_final, pos_items_emb_final)\n",
        "    pos_scores = torch.sum(pos_scores, dim=-1)\n",
        "    neg_scores = torch.mul(users_emb_final, neg_items_emb_final)\n",
        "    neg_scores = torch.sum(neg_scores, dim=-1)\n",
        "\n",
        "    loss = -torch.mean(torch.nn.functional.softplus(pos_scores - neg_scores)) + reg_loss\n",
        "\n",
        "    return loss"
      ]
    },
    {
      "cell_type": "markdown",
      "metadata": {},
      "source": [
        "# Metrics\n"
      ]
    },
    {
      "cell_type": "code",
      "execution_count": 11,
      "metadata": {
        "id": "nHO2gdhRSwzJ"
      },
      "outputs": [],
      "source": [
        "# helper function to get N_u\n",
        "def get_user_positive_items(edge_index):\n",
        "    user_pos_items = {}\n",
        "    for i in range(edge_index.shape[1]):\n",
        "        user = edge_index[0][i].item()\n",
        "        item = edge_index[1][i].item()\n",
        "        if user not in user_pos_items:\n",
        "            user_pos_items[user] = []\n",
        "        user_pos_items[user].append(item)\n",
        "    return user_pos_items"
      ]
    },
    {
      "cell_type": "code",
      "execution_count": 12,
      "metadata": {
        "id": "8We4BTtfS4NV"
      },
      "outputs": [],
      "source": [
        "def RP(groundTruth, r, k):\n",
        "    num_correct_pred = torch.sum(r, dim=-1)\n",
        "    user_num_liked = torch.Tensor(\n",
        "        [len(groundTruth[i]) for i in range(len(groundTruth))]\n",
        "    )\n",
        "    recall = torch.mean(num_correct_pred / user_num_liked)\n",
        "    precision = torch.mean(num_correct_pred) / k\n",
        "    return recall.item(), precision.item()"
      ]
    },
    {
      "cell_type": "code",
      "execution_count": 13,
      "metadata": {
        "id": "9v4A3Ek4TE02"
      },
      "outputs": [],
      "source": [
        "def NDCG(groundTruth, r, k):\n",
        "    test_matrix = torch.zeros((len(r), k))\n",
        "\n",
        "    for i, items in enumerate(groundTruth):\n",
        "        length = min(len(items), k)\n",
        "        test_matrix[i, :length] = 1\n",
        "    max_r = test_matrix\n",
        "    idcg = torch.sum(max_r * 1.0 / torch.log2(torch.arange(2, k + 2)), axis=1)\n",
        "    dcg = r * (1.0 / torch.log2(torch.arange(2, k + 2)))\n",
        "    dcg = torch.sum(dcg, axis=1)\n",
        "    idcg[idcg == 0.0] = 1.0\n",
        "    ndcg = dcg / idcg\n",
        "    ndcg[torch.isnan(ndcg)] = 0.0\n",
        "    return torch.mean(ndcg).item()"
      ]
    },
    {
      "cell_type": "code",
      "execution_count": 14,
      "metadata": {
        "id": "x6_741LlTMwI"
      },
      "outputs": [],
      "source": [
        "def get_metrics(model, edge_index, exclude_edge_indices, k):\n",
        "    user_embedding = model.users_emb.weight\n",
        "    item_embedding = model.items_emb.weight\n",
        "\n",
        "    rating = torch.matmul(user_embedding, item_embedding.T)\n",
        "\n",
        "    for exclude_edge_index in exclude_edge_indices:\n",
        "        user_pos_items = get_user_positive_items(exclude_edge_index)\n",
        "        exclude_users = []\n",
        "        exclude_items = []\n",
        "        for user, items in user_pos_items.items():\n",
        "            exclude_users.extend([user] * len(items))\n",
        "            exclude_items.extend(items)\n",
        "\n",
        "        rating[exclude_users, exclude_items] = -(1 << 10)\n",
        "\n",
        "    _, top_K_items = torch.topk(rating, k=k)\n",
        "    users = edge_index[0].unique()\n",
        "\n",
        "    test_user_pos_items = get_user_positive_items(edge_index)\n",
        "    test_user_pos_items_list = [test_user_pos_items[user.item()] for user in users]\n",
        "\n",
        "    r = []\n",
        "    for user in users:\n",
        "        ground_truth_items = test_user_pos_items[user.item()]\n",
        "        label = list(map(lambda x: x in ground_truth_items, top_K_items[user]))\n",
        "        r.append(label)\n",
        "    r = torch.Tensor(np.array(r).astype(\"float\"))\n",
        "\n",
        "    recall, precision = RP(test_user_pos_items_list, r, k)\n",
        "    ndcg = NDCG(test_user_pos_items_list, r, k)\n",
        "\n",
        "    return recall, precision, ndcg"
      ]
    },
    {
      "cell_type": "code",
      "execution_count": 15,
      "metadata": {
        "id": "yr_qESXASsVw"
      },
      "outputs": [],
      "source": [
        "def evaluation(\n",
        "    model, edge_index, sparse_edge_index, exclude_edge_indices, k, lambda_val\n",
        "):\n",
        "    users_emb_final, users_emb_0, items_emb_final, items_emb_0 = model.forward(\n",
        "        sparse_edge_index\n",
        "    )\n",
        "    edges = structured_negative_sampling(edge_index, contains_neg_self_loops=False)\n",
        "    user_indices, pos_item_indices, neg_item_indices = edges[0], edges[1], edges[2]\n",
        "    users_emb_final, users_emb_0 = (\n",
        "        users_emb_final[user_indices],\n",
        "        users_emb_0[user_indices],\n",
        "    )\n",
        "    pos_items_emb_final, pos_items_emb_0 = (\n",
        "        items_emb_final[pos_item_indices],\n",
        "        items_emb_0[pos_item_indices],\n",
        "    )\n",
        "    neg_items_emb_final, neg_items_emb_0 = (\n",
        "        items_emb_final[neg_item_indices],\n",
        "        items_emb_0[neg_item_indices],\n",
        "    )\n",
        "\n",
        "    loss = bpr_loss(\n",
        "        users_emb_final,\n",
        "        users_emb_0,\n",
        "        pos_items_emb_final,\n",
        "        pos_items_emb_0,\n",
        "        neg_items_emb_final,\n",
        "        neg_items_emb_0,\n",
        "        lambda_val,\n",
        "    ).item()\n",
        "\n",
        "    recall, precision, ndcg = get_metrics(model, edge_index, exclude_edge_indices, k)\n",
        "\n",
        "    return loss, recall, precision, ndcg"
      ]
    },
    {
      "cell_type": "markdown",
      "metadata": {
        "id": "NYw1cUgPTjws"
      },
      "source": [
        "# Training\n"
      ]
    },
    {
      "cell_type": "code",
      "execution_count": 16,
      "metadata": {
        "id": "MQL2W-NQTeFd"
      },
      "outputs": [],
      "source": [
        "# define contants\n",
        "ITERATIONS = 10000\n",
        "BATCH_SIZE = 1024\n",
        "LR = 1e-3\n",
        "ITERS_PER_EVAL = 200\n",
        "ITERS_PER_LR_DECAY = 200\n",
        "K = 20\n",
        "LAMBDA = 1e-6"
      ]
    },
    {
      "cell_type": "code",
      "execution_count": 17,
      "metadata": {
        "colab": {
          "base_uri": "https://localhost:8080/"
        },
        "id": "49JDkBtKTfE-",
        "outputId": "f5569795-361c-466a-909e-10941357dbd0"
      },
      "outputs": [
        {
          "name": "stdout",
          "output_type": "stream",
          "text": [
            "Using device cuda.\n"
          ]
        }
      ],
      "source": [
        "# setup\n",
        "device = torch.device(\"cuda\" if torch.cuda.is_available() else \"cpu\")\n",
        "print(f\"Using device {device}.\")\n",
        "\n",
        "\n",
        "model = model.to(device)\n",
        "model.train()\n",
        "\n",
        "optimizer = optim.Adam(model.parameters(), lr=LR)\n",
        "scheduler = optim.lr_scheduler.ExponentialLR(optimizer, gamma=0.95)\n",
        "\n",
        "edge_index = edge_index.to(device)\n",
        "train_edge_index = train_edge_index.to(device)\n",
        "train_sparse_edge_index = train_sparse_edge_index.to(device)\n",
        "\n",
        "val_edge_index = val_edge_index.to(device)\n",
        "val_sparse_edge_index = val_sparse_edge_index.to(device)"
      ]
    },
    {
      "cell_type": "code",
      "execution_count": 18,
      "metadata": {
        "colab": {
          "base_uri": "https://localhost:8080/"
        },
        "id": "wYjrDp1w-hiP",
        "outputId": "0b79c98c-8b9d-4715-93ae-1c258a49b7e8"
      },
      "outputs": [
        {
          "name": "stdout",
          "output_type": "stream",
          "text": [
            "[Iteration 0/10000] train_loss: -0.69132, val_loss: -0.68392, val_recall@20: 0.00136, val_precision@20: 0.00127, val_ndcg@20: 0.00129\n",
            "[Iteration 200/10000] train_loss: -0.69872, val_loss: -0.68924, val_recall@20: 0.04131, val_precision@20: 0.01401, val_ndcg@20: 0.03007\n",
            "[Iteration 400/10000] train_loss: -0.86734, val_loss: -0.82244, val_recall@20: 0.1391, val_precision@20: 0.04123, val_ndcg@20: 0.09682\n",
            "[Iteration 600/10000] train_loss: -1.7827, val_loss: -1.51998, val_recall@20: 0.13915, val_precision@20: 0.04241, val_ndcg@20: 0.10123\n",
            "[Iteration 800/10000] train_loss: -3.443, val_loss: -2.85833, val_recall@20: 0.14743, val_precision@20: 0.04503, val_ndcg@20: 0.10536\n",
            "[Iteration 1000/10000] train_loss: -5.45768, val_loss: -4.49332, val_recall@20: 0.14939, val_precision@20: 0.04548, val_ndcg@20: 0.10576\n",
            "[Iteration 1200/10000] train_loss: -7.21348, val_loss: -6.24178, val_recall@20: 0.1499, val_precision@20: 0.04494, val_ndcg@20: 0.1051\n",
            "[Iteration 1400/10000] train_loss: -9.91621, val_loss: -8.19649, val_recall@20: 0.15319, val_precision@20: 0.04584, val_ndcg@20: 0.10596\n",
            "[Iteration 1600/10000] train_loss: -11.90007, val_loss: -10.23834, val_recall@20: 0.15358, val_precision@20: 0.04557, val_ndcg@20: 0.10576\n",
            "[Iteration 1800/10000] train_loss: -14.90849, val_loss: -12.22188, val_recall@20: 0.15084, val_precision@20: 0.04539, val_ndcg@20: 0.10496\n",
            "[Iteration 2000/10000] train_loss: -16.79688, val_loss: -13.99269, val_recall@20: 0.15149, val_precision@20: 0.04557, val_ndcg@20: 0.10542\n",
            "[Iteration 2200/10000] train_loss: -19.11791, val_loss: -16.17213, val_recall@20: 0.15057, val_precision@20: 0.04566, val_ndcg@20: 0.10503\n",
            "[Iteration 2400/10000] train_loss: -23.08213, val_loss: -17.94775, val_recall@20: 0.15001, val_precision@20: 0.04539, val_ndcg@20: 0.1049\n",
            "[Iteration 2600/10000] train_loss: -25.32102, val_loss: -19.96212, val_recall@20: 0.14962, val_precision@20: 0.04539, val_ndcg@20: 0.10492\n",
            "[Iteration 2800/10000] train_loss: -26.83628, val_loss: -21.93963, val_recall@20: 0.14939, val_precision@20: 0.04521, val_ndcg@20: 0.10482\n",
            "[Iteration 3000/10000] train_loss: -28.57721, val_loss: -23.60981, val_recall@20: 0.1499, val_precision@20: 0.04548, val_ndcg@20: 0.10501\n",
            "[Iteration 3200/10000] train_loss: -30.61823, val_loss: -25.60183, val_recall@20: 0.14966, val_precision@20: 0.04539, val_ndcg@20: 0.10496\n",
            "[Iteration 3400/10000] train_loss: -32.19507, val_loss: -27.0552, val_recall@20: 0.15233, val_precision@20: 0.04593, val_ndcg@20: 0.10598\n",
            "[Iteration 3600/10000] train_loss: -35.53081, val_loss: -28.58226, val_recall@20: 0.15092, val_precision@20: 0.04584, val_ndcg@20: 0.1042\n",
            "[Iteration 3800/10000] train_loss: -37.40387, val_loss: -30.54467, val_recall@20: 0.15025, val_precision@20: 0.04566, val_ndcg@20: 0.10521\n",
            "[Iteration 4000/10000] train_loss: -38.72393, val_loss: -32.23148, val_recall@20: 0.15022, val_precision@20: 0.04575, val_ndcg@20: 0.10542\n",
            "[Iteration 4200/10000] train_loss: -40.36768, val_loss: -33.65403, val_recall@20: 0.15222, val_precision@20: 0.04593, val_ndcg@20: 0.10618\n",
            "[Iteration 4400/10000] train_loss: -43.04866, val_loss: -34.84355, val_recall@20: 0.15092, val_precision@20: 0.04584, val_ndcg@20: 0.10552\n",
            "[Iteration 4600/10000] train_loss: -43.1194, val_loss: -36.42335, val_recall@20: 0.15251, val_precision@20: 0.04611, val_ndcg@20: 0.10598\n",
            "[Iteration 4800/10000] train_loss: -44.53579, val_loss: -37.76455, val_recall@20: 0.15103, val_precision@20: 0.04593, val_ndcg@20: 0.10561\n",
            "[Iteration 5000/10000] train_loss: -49.06485, val_loss: -39.13034, val_recall@20: 0.15111, val_precision@20: 0.04602, val_ndcg@20: 0.10564\n",
            "[Iteration 5200/10000] train_loss: -48.61346, val_loss: -40.37426, val_recall@20: 0.15098, val_precision@20: 0.04593, val_ndcg@20: 0.10555\n",
            "[Iteration 5400/10000] train_loss: -50.50142, val_loss: -41.00457, val_recall@20: 0.15092, val_precision@20: 0.04584, val_ndcg@20: 0.10553\n",
            "[Iteration 5600/10000] train_loss: -51.35207, val_loss: -42.40347, val_recall@20: 0.15098, val_precision@20: 0.04593, val_ndcg@20: 0.10559\n",
            "[Iteration 5800/10000] train_loss: -54.39096, val_loss: -43.48962, val_recall@20: 0.15092, val_precision@20: 0.04584, val_ndcg@20: 0.10548\n",
            "[Iteration 6000/10000] train_loss: -53.90265, val_loss: -44.4678, val_recall@20: 0.15092, val_precision@20: 0.04584, val_ndcg@20: 0.10544\n",
            "[Iteration 6200/10000] train_loss: -57.6572, val_loss: -45.37283, val_recall@20: 0.15205, val_precision@20: 0.04593, val_ndcg@20: 0.10577\n",
            "[Iteration 6400/10000] train_loss: -58.44721, val_loss: -45.81678, val_recall@20: 0.1513, val_precision@20: 0.04584, val_ndcg@20: 0.10568\n",
            "[Iteration 6600/10000] train_loss: -57.27797, val_loss: -46.99748, val_recall@20: 0.15213, val_precision@20: 0.04602, val_ndcg@20: 0.10598\n",
            "[Iteration 6800/10000] train_loss: -57.87773, val_loss: -48.31805, val_recall@20: 0.15122, val_precision@20: 0.04593, val_ndcg@20: 0.10569\n",
            "[Iteration 7000/10000] train_loss: -58.89075, val_loss: -48.86536, val_recall@20: 0.15213, val_precision@20: 0.04602, val_ndcg@20: 0.10597\n",
            "[Iteration 7200/10000] train_loss: -58.46287, val_loss: -49.51904, val_recall@20: 0.15212, val_precision@20: 0.04602, val_ndcg@20: 0.10595\n",
            "[Iteration 7400/10000] train_loss: -61.53843, val_loss: -50.76534, val_recall@20: 0.15212, val_precision@20: 0.04602, val_ndcg@20: 0.10588\n",
            "[Iteration 7600/10000] train_loss: -64.85709, val_loss: -51.21278, val_recall@20: 0.15213, val_precision@20: 0.04602, val_ndcg@20: 0.10599\n",
            "[Iteration 7800/10000] train_loss: -65.59068, val_loss: -52.0643, val_recall@20: 0.15213, val_precision@20: 0.04602, val_ndcg@20: 0.10598\n",
            "[Iteration 8000/10000] train_loss: -65.96667, val_loss: -52.21026, val_recall@20: 0.15213, val_precision@20: 0.04602, val_ndcg@20: 0.10598\n",
            "[Iteration 8200/10000] train_loss: -66.19348, val_loss: -53.02996, val_recall@20: 0.15213, val_precision@20: 0.04602, val_ndcg@20: 0.10597\n",
            "[Iteration 8400/10000] train_loss: -67.05721, val_loss: -52.85722, val_recall@20: 0.15213, val_precision@20: 0.04602, val_ndcg@20: 0.10588\n",
            "[Iteration 8600/10000] train_loss: -65.93217, val_loss: -54.64188, val_recall@20: 0.15207, val_precision@20: 0.04593, val_ndcg@20: 0.10577\n",
            "[Iteration 8800/10000] train_loss: -68.0928, val_loss: -54.93521, val_recall@20: 0.15204, val_precision@20: 0.04593, val_ndcg@20: 0.10578\n",
            "[Iteration 9000/10000] train_loss: -67.67486, val_loss: -56.0575, val_recall@20: 0.15229, val_precision@20: 0.04611, val_ndcg@20: 0.10589\n",
            "[Iteration 9200/10000] train_loss: -66.98179, val_loss: -55.31128, val_recall@20: 0.15237, val_precision@20: 0.0462, val_ndcg@20: 0.10594\n",
            "[Iteration 9400/10000] train_loss: -68.3682, val_loss: -56.66405, val_recall@20: 0.15237, val_precision@20: 0.0462, val_ndcg@20: 0.10596\n",
            "[Iteration 9600/10000] train_loss: -71.01003, val_loss: -57.06132, val_recall@20: 0.15237, val_precision@20: 0.0462, val_ndcg@20: 0.10591\n",
            "[Iteration 9800/10000] train_loss: -70.83344, val_loss: -57.40765, val_recall@20: 0.15237, val_precision@20: 0.0462, val_ndcg@20: 0.10589\n"
          ]
        }
      ],
      "source": [
        "# training loop\n",
        "train_losses = []\n",
        "val_losses = []\n",
        "recalls = []\n",
        "precisions = []\n",
        "ndcgs = []\n",
        "\n",
        "for iter in range(ITERATIONS):\n",
        "    # forward propagation\n",
        "    users_emb_final, users_emb_0, items_emb_final, items_emb_0 = model.forward(\n",
        "        train_sparse_edge_index\n",
        "    )\n",
        "\n",
        "    # mini batching\n",
        "    user_indices, pos_item_indices, neg_item_indices = sample_mini_batch(\n",
        "        BATCH_SIZE, train_edge_index\n",
        "    )\n",
        "    user_indices, pos_item_indices, neg_item_indices = (\n",
        "        user_indices.to(device),\n",
        "        pos_item_indices.to(device),\n",
        "        neg_item_indices.to(device),\n",
        "    )\n",
        "    users_emb_final, users_emb_0 = (\n",
        "        users_emb_final[user_indices],\n",
        "        users_emb_0[user_indices],\n",
        "    )\n",
        "    pos_items_emb_final, pos_items_emb_0 = (\n",
        "        items_emb_final[pos_item_indices],\n",
        "        items_emb_0[pos_item_indices],\n",
        "    )\n",
        "    neg_items_emb_final, neg_items_emb_0 = (\n",
        "        items_emb_final[neg_item_indices],\n",
        "        items_emb_0[neg_item_indices],\n",
        "    )\n",
        "\n",
        "    # loss computation\n",
        "    train_loss = bpr_loss(\n",
        "        users_emb_final,\n",
        "        users_emb_0,\n",
        "        pos_items_emb_final,\n",
        "        pos_items_emb_0,\n",
        "        neg_items_emb_final,\n",
        "        neg_items_emb_0,\n",
        "        LAMBDA,\n",
        "    )\n",
        "\n",
        "    optimizer.zero_grad()\n",
        "    train_loss.backward()\n",
        "    optimizer.step()\n",
        "\n",
        "    if iter % ITERS_PER_EVAL == 0:\n",
        "        model.eval()\n",
        "        val_loss, recall, precision, ndcg = evaluation(\n",
        "            model, val_edge_index, val_sparse_edge_index, [train_edge_index], K, LAMBDA\n",
        "        )\n",
        "        print(\n",
        "            f\"[Iteration {iter}/{ITERATIONS}] train_loss: {round(train_loss.item(), 5)}, val_loss: {round(val_loss, 5)}, val_recall@{K}: {round(recall, 5)}, val_precision@{K}: {round(precision, 5)}, val_ndcg@{K}: {round(ndcg, 5)}\"\n",
        "        )\n",
        "        train_losses.append(train_loss.item())\n",
        "        val_losses.append(val_loss)\n",
        "        recalls.append(recall)\n",
        "        precisions.append(precision)\n",
        "        ndcgs.append(ndcg)\n",
        "        model.train()\n",
        "\n",
        "    if iter % ITERS_PER_LR_DECAY == 0 and iter != 0:\n",
        "        scheduler.step()"
      ]
    },
    {
      "cell_type": "code",
      "execution_count": 34,
      "metadata": {
        "colab": {
          "base_uri": "https://localhost:8080/",
          "height": 472
        },
        "id": "nLcdvV5iXBSv",
        "outputId": "035eddc0-3313-454a-ee70-e31b105a7fa5"
      },
      "outputs": [
        {
          "data": {
            "image/png": "[encoded data removed]",
            "text/plain": [
              "<Figure size 640x480 with 1 Axes>"
            ]
          },
          "metadata": {},
          "output_type": "display_data"
        }
      ],
      "source": [
        "iters = [iter * ITERS_PER_EVAL for iter in range(len(train_losses))]\n",
        "plt.plot(iters, train_losses, label=\"train\")\n",
        "plt.plot(iters, val_losses, label=\"validation\")\n",
        "plt.xlabel(\"iteration\")\n",
        "plt.ylabel(\"loss\")\n",
        "plt.title(\"Loss\")\n",
        "plt.grid()\n",
        "plt.legend()\n",
        "plt.savefig(\"loss.png\")"
      ]
    },
    {
      "cell_type": "code",
      "execution_count": 36,
      "metadata": {
        "colab": {
          "base_uri": "https://localhost:8080/",
          "height": 472
        },
        "id": "p_64Hqszj7iQ",
        "outputId": "f719f55e-26de-4200-a5c8-d7c9d3b8b682"
      },
      "outputs": [
        {
          "data": {
            "image/png": "[encoded data removed]",
            "text/plain": [
              "<Figure size 640x480 with 1 Axes>"
            ]
          },
          "metadata": {},
          "output_type": "display_data"
        }
      ],
      "source": [
        "iters = [iter * ITERS_PER_EVAL for iter in range(len(recalls))]\n",
        "plt.plot(iters, recalls, label=\"recall\")\n",
        "plt.plot(iters, precisions, label=\"precision\")\n",
        "plt.plot(iters, ndcgs, label=\"ndcg\")\n",
        "plt.xlabel(\"iteration\")\n",
        "plt.ylabel(\"value\")\n",
        "plt.title(\"Metrics\")\n",
        "plt.grid()\n",
        "plt.legend()\n",
        "plt.savefig(\"metrics.png\")"
      ]
    },
    {
      "cell_type": "code",
      "execution_count": 23,
      "metadata": {
        "colab": {
          "base_uri": "https://localhost:8080/"
        },
        "id": "G6UjCTMQ_N5e",
        "outputId": "b3d47bbd-49bb-4ed6-d3c6-abd9d3a7306d"
      },
      "outputs": [
        {
          "name": "stdout",
          "output_type": "stream",
          "text": [
            "[test_loss: -52.0814, test_recall@20: 0.12316, test_precision@20: 0.04647, test_ndcg@20: 0.09962\n"
          ]
        }
      ],
      "source": [
        "# evaluate on test set\n",
        "model.eval()\n",
        "test_edge_index = test_edge_index.to(device)\n",
        "test_sparse_edge_index = test_sparse_edge_index.to(device)\n",
        "\n",
        "test_loss, test_recall, test_precision, test_ndcg = evaluation(\n",
        "    model,\n",
        "    test_edge_index,\n",
        "    test_sparse_edge_index,\n",
        "    [train_edge_index, val_edge_index],\n",
        "    K,\n",
        "    LAMBDA,\n",
        ")\n",
        "\n",
        "print(\n",
        "    f\"[test_loss: {round(test_loss, 5)}, test_recall@{K}: {round(test_recall, 5)}, test_precision@{K}: {round(test_precision, 5)}, test_ndcg@{K}: {round(test_ndcg, 5)}\"\n",
        ")"
      ]
    },
    {
      "cell_type": "code",
      "execution_count": 24,
      "metadata": {
        "id": "mUc6yMoeiwPG"
      },
      "outputs": [],
      "source": [
        "torch.save(model.state_dict(), \"../models/checkpoint.pt\")"
      ]
    }
  ],
  "metadata": {
    "accelerator": "GPU",
    "colab": {
      "provenance": []
    },
    "kernelspec": {
      "display_name": "Python 3",
      "name": "python3"
    },
    "language_info": {
      "name": "python"
    }
  },
  "nbformat": 4,
  "nbformat_minor": 0
}
